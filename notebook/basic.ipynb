{
 "cells": [
  {
   "cell_type": "code",
   "id": "f4a546e5",
   "metadata": {
    "ExecuteTime": {
     "end_time": "2025-06-28T10:18:40.725059Z",
     "start_time": "2025-06-28T10:18:40.713061Z"
    }
   },
   "source": [
    "import sys\n",
    "sys.path.insert(0, 'E:\\pycharm\\PepBenchmark\\src')"
   ],
   "outputs": [],
   "execution_count": 4
  },
  {
   "cell_type": "code",
   "id": "71751e5b",
   "metadata": {
    "ExecuteTime": {
     "end_time": "2025-06-28T10:18:43.546493Z",
     "start_time": "2025-06-28T10:18:43.218953Z"
    }
   },
   "source": [
    "import dis\n",
    "from pepbenchmark.single_pred.base_dataset import SingleTaskDatasetManager\n",
    "from pepbenchmark.utils.logging import disable_logging,enable_logging\n",
    "# disable_logging()\n",
    "enable_logging()\n",
    "dataset = SingleTaskDatasetManager(\n",
    "    dataset_name=\"test\",\n",
    "    official_feature_names=[\"fasta\",\"label\"],\n",
    "    force_download=True,\n",
    ")\n",
    "dataset.set_official_feature(\"fasta\")\n",
    "dataset.set_official_feature(\"smiles\")\n",
    "print(f\"Dataset length: {len(dataset)}\")\n",
    "print(\"Official features:\", dataset.official_feature_dict.keys())\n",
    "dataset.set_user_feature(\"other_feature\", list(range(len(dataset))))\n",
    "print(\"User features:\", dataset.user_feature_dict.keys())\n",
    "\n",
    "# Set split indices\n",
    "dataset.set_official_split_indices(split_type=\"random_split\", fold_seed=1)\n",
    "print(\"Split indices:\", dataset.get_split_indices())\n",
    "\n",
    "# Get train, valid, test features\n",
    "train_features, valid_features, test_features = dataset.get_train_val_test_features(format=\"pytorch_dataset\")\n",
    "print(\"Train features:\", train_features[0])"
   ],
   "outputs": [
    {
     "ename": "ModuleNotFoundError",
     "evalue": "No module named 'numpy'",
     "output_type": "error",
     "traceback": [
      "\u001B[1;31m---------------------------------------------------------------------------\u001B[0m",
      "\u001B[1;31mModuleNotFoundError\u001B[0m                       Traceback (most recent call last)",
      "Cell \u001B[1;32mIn [5], line 2\u001B[0m\n\u001B[0;32m      1\u001B[0m \u001B[38;5;28;01mimport\u001B[39;00m \u001B[38;5;21;01mdis\u001B[39;00m\n\u001B[1;32m----> 2\u001B[0m \u001B[38;5;28;01mfrom\u001B[39;00m \u001B[38;5;21;01mpepbenchmark\u001B[39;00m\u001B[38;5;21;01m.\u001B[39;00m\u001B[38;5;21;01msingle_pred\u001B[39;00m\u001B[38;5;21;01m.\u001B[39;00m\u001B[38;5;21;01mbase_dataset\u001B[39;00m \u001B[38;5;28;01mimport\u001B[39;00m SingleTaskDatasetManager\n\u001B[0;32m      3\u001B[0m \u001B[38;5;28;01mfrom\u001B[39;00m \u001B[38;5;21;01mpepbenchmark\u001B[39;00m\u001B[38;5;21;01m.\u001B[39;00m\u001B[38;5;21;01mutils\u001B[39;00m\u001B[38;5;21;01m.\u001B[39;00m\u001B[38;5;21;01mlogging\u001B[39;00m \u001B[38;5;28;01mimport\u001B[39;00m disable_logging,enable_logging\n\u001B[0;32m      4\u001B[0m \u001B[38;5;66;03m# disable_logging()\u001B[39;00m\n",
      "File \u001B[1;32mE:\\pycharm\\PepBenchmark\\src\\pepbenchmark\\single_pred\\base_dataset.py:19\u001B[0m\n\u001B[0;32m     16\u001B[0m \u001B[38;5;28;01mimport\u001B[39;00m \u001B[38;5;21;01mos\u001B[39;00m\n\u001B[0;32m     17\u001B[0m \u001B[38;5;28;01mfrom\u001B[39;00m \u001B[38;5;21;01mtyping\u001B[39;00m \u001B[38;5;28;01mimport\u001B[39;00m Any, Dict, List, Optional, Tuple, Union\n\u001B[1;32m---> 19\u001B[0m \u001B[38;5;28;01mimport\u001B[39;00m \u001B[38;5;21;01mnumpy\u001B[39;00m \u001B[38;5;28;01mas\u001B[39;00m \u001B[38;5;21;01mnp\u001B[39;00m\n\u001B[0;32m     20\u001B[0m \u001B[38;5;28;01mimport\u001B[39;00m \u001B[38;5;21;01mpandas\u001B[39;00m \u001B[38;5;28;01mas\u001B[39;00m \u001B[38;5;21;01mpd\u001B[39;00m\n\u001B[0;32m     21\u001B[0m \u001B[38;5;28;01mimport\u001B[39;00m \u001B[38;5;21;01mrequests\u001B[39;00m\n",
      "\u001B[1;31mModuleNotFoundError\u001B[0m: No module named 'numpy'"
     ]
    }
   ],
   "execution_count": 5
  },
  {
   "cell_type": "code",
   "id": "8720a21a",
   "metadata": {
    "ExecuteTime": {
     "end_time": "2025-06-28T10:33:25.672135Z",
     "start_time": "2025-06-28T10:33:25.567128Z"
    }
   },
   "source": [
    "from pepbenchmark.single_pred.base_dataset import SingleTaskDatasetManager\n",
    "from pepbenchmark.utils.logging import disable_logging,enable_logging\n",
    "\n",
    "enable_logging()\n",
    "dataset = SingleTaskDatasetManager(\n",
    "    dataset_name=\"QS_APML\",\n",
    "    official_feature_names=[\"fasta\",\"label\"],\n",
    "    dataset_dir = \"E:\\pycharm\\peptide_data\\Theraputic-Other\\QS_APML\",\n",
    "    force_download=True)\n",
    "fasta = dataset.get_official_feature(\"fasta\")\n",
    "helm = Fasta2Helm\n",
    "biln = Fasta2Biln\n",
    "Fasta2Smiles\n"
   ],
   "outputs": [
    {
     "ename": "ModuleNotFoundError",
     "evalue": "No module named 'numpy'",
     "output_type": "error",
     "traceback": [
      "\u001B[1;31m---------------------------------------------------------------------------\u001B[0m",
      "\u001B[1;31mModuleNotFoundError\u001B[0m                       Traceback (most recent call last)",
      "Cell \u001B[1;32mIn [6], line 1\u001B[0m\n\u001B[1;32m----> 1\u001B[0m \u001B[38;5;28;01mfrom\u001B[39;00m \u001B[38;5;21;01mpepbenchmark\u001B[39;00m\u001B[38;5;21;01m.\u001B[39;00m\u001B[38;5;21;01msingle_pred\u001B[39;00m\u001B[38;5;21;01m.\u001B[39;00m\u001B[38;5;21;01mbase_dataset\u001B[39;00m \u001B[38;5;28;01mimport\u001B[39;00m SingleTaskDatasetManager\n\u001B[0;32m      2\u001B[0m \u001B[38;5;28;01mfrom\u001B[39;00m \u001B[38;5;21;01mpepbenchmark\u001B[39;00m\u001B[38;5;21;01m.\u001B[39;00m\u001B[38;5;21;01mutils\u001B[39;00m\u001B[38;5;21;01m.\u001B[39;00m\u001B[38;5;21;01mlogging\u001B[39;00m \u001B[38;5;28;01mimport\u001B[39;00m disable_logging,enable_logging\n\u001B[0;32m      3\u001B[0m enable_logging()\n",
      "File \u001B[1;32mE:\\pycharm\\PepBenchmark\\src\\pepbenchmark\\single_pred\\base_dataset.py:19\u001B[0m\n\u001B[0;32m     16\u001B[0m \u001B[38;5;28;01mimport\u001B[39;00m \u001B[38;5;21;01mos\u001B[39;00m\n\u001B[0;32m     17\u001B[0m \u001B[38;5;28;01mfrom\u001B[39;00m \u001B[38;5;21;01mtyping\u001B[39;00m \u001B[38;5;28;01mimport\u001B[39;00m Any, Dict, List, Optional, Tuple, Union\n\u001B[1;32m---> 19\u001B[0m \u001B[38;5;28;01mimport\u001B[39;00m \u001B[38;5;21;01mnumpy\u001B[39;00m \u001B[38;5;28;01mas\u001B[39;00m \u001B[38;5;21;01mnp\u001B[39;00m\n\u001B[0;32m     20\u001B[0m \u001B[38;5;28;01mimport\u001B[39;00m \u001B[38;5;21;01mpandas\u001B[39;00m \u001B[38;5;28;01mas\u001B[39;00m \u001B[38;5;21;01mpd\u001B[39;00m\n\u001B[0;32m     21\u001B[0m \u001B[38;5;28;01mimport\u001B[39;00m \u001B[38;5;21;01mrequests\u001B[39;00m\n",
      "\u001B[1;31mModuleNotFoundError\u001B[0m: No module named 'numpy'"
     ]
    }
   ],
   "execution_count": 6
  }
 ],
 "metadata": {
  "kernelspec": {
   "display_name": "pepbenchmark",
   "language": "python",
   "name": "python3"
  },
  "language_info": {
   "codemirror_mode": {
    "name": "ipython",
    "version": 3
   },
   "file_extension": ".py",
   "mimetype": "text/x-python",
   "name": "python",
   "nbconvert_exporter": "python",
   "pygments_lexer": "ipython3",
   "version": "3.10.18"
  }
 },
 "nbformat": 4,
 "nbformat_minor": 5
}
