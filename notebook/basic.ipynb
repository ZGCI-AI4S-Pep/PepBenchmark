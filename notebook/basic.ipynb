{
 "cells": [
  {
   "cell_type": "code",
   "execution_count": null,
   "id": "f4a546e5",
   "metadata": {},
   "outputs": [],
   "source": []
  },
  {
   "cell_type": "code",
   "execution_count": null,
   "id": "71751e5b",
   "metadata": {},
   "outputs": [
    {
     "ename": "",
     "evalue": "",
     "output_type": "error",
     "traceback": [
      "\u001b[1;31mRunning cells with 'pepbenchmark (Python 3.10.18)' requires the ipykernel package.\n",
      "\u001b[1;31m<a href='command:jupyter.createPythonEnvAndSelectController'>Create a Python Environment</a> with the required packages.\n",
      "\u001b[1;31mOr install 'ipykernel' using the command: 'conda install -n pepbenchmark ipykernel --update-deps --force-reinstall'"
     ]
    }
   ],
   "source": [
    "import dis\n",
    "from pepbenchmark.single_pred.base_dataset import SingleTaskDatasetManager\n",
    "from pepbenchmark.utils.logging import disable_logging,enable_logging\n",
    "# disable_logging()\n",
    "enable_logging()\n",
    "dataset = SingleTaskDatasetManager(\n",
    "    dataset_name=\"test\",\n",
    "    official_feature_names=[\"fasta\",\"label\"],\n",
    "    force_download=True,\n",
    ")\n",
    "dataset.set_official_feature(\"fasta\")\n",
    "dataset.set_official_feature(\"smiles\")\n",
    "print(f\"Dataset length: {len(dataset)}\")\n",
    "print(\"Official features:\", dataset.official_feature_dict.keys())\n",
    "dataset.set_user_feature(\"other_feature\", list(range(len(dataset))))\n",
    "print(\"User features:\", dataset.user_feature_dict.keys())\n",
    "\n",
    "# Set split indices\n",
    "dataset.set_official_split_indices(split_type=\"random_split\", fold_seed=1)\n",
    "print(\"Split indices:\", dataset.get_split_indices())\n",
    "\n",
    "# Get train, valid, test features\n",
    "train_features, valid_features, test_features = dataset.get_train_val_test_features(format=\"pytorch_dataset\")\n",
    "print(\"Train features:\", train_features[0])"
   ]
  },
  {
   "cell_type": "code",
   "execution_count": null,
   "id": "8720a21a",
   "metadata": {},
   "outputs": [],
   "source": []
  }
 ],
 "metadata": {
  "kernelspec": {
   "display_name": "pepbenchmark",
   "language": "python",
   "name": "python3"
  },
  "language_info": {
   "codemirror_mode": {
    "name": "ipython",
    "version": 3
   },
   "file_extension": ".py",
   "mimetype": "text/x-python",
   "name": "python",
   "nbconvert_exporter": "python",
   "pygments_lexer": "ipython3",
   "version": "3.10.18"
  }
 },
 "nbformat": 4,
 "nbformat_minor": 5
}
